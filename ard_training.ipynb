{
 "cells": [
  {
   "cell_type": "code",
   "execution_count": 1,
   "metadata": {},
   "outputs": [],
   "source": [
    "# Load dependencies\n",
    "\n",
    "import torch\n",
    "import torch.nn as nn\n",
    "import torch.nn.functional as F\n",
    "import torch.backends.cudnn as cudnn\n",
    "import torchvision\n",
    "import torchvision.models as models\n",
    "import torch.optim as optim\n",
    "import os\n",
    "import torchvision.transforms as transforms\n",
    "import torchvision.transforms.functional as TF\n",
    "from tqdm import tqdm\n",
    "from torch.utils.tensorboard import SummaryWriter\n",
    "import torchattacks"
   ]
  },
  {
   "cell_type": "code",
   "execution_count": 2,
   "metadata": {},
   "outputs": [],
   "source": [
    "# Setup CUDA Device\n",
    "\n",
    "device = 'cuda' if torch.cuda.is_available() else 'cpu'"
   ]
  },
  {
   "cell_type": "code",
   "execution_count": 3,
   "metadata": {},
   "outputs": [],
   "source": [
    "model_name = \"Mobilenetv3Small\"\n",
    "version = \"v1\"\n",
    "training_name = \"ARD_NotPretrainMobilenet\"\n",
    "\n",
    "height = 224\n",
    "num_classes = 7\n",
    "epochs = 100\n",
    "lr = 0.0001\n",
    "lr_factor = 0.1\n",
    "lr_threshold = 6\n",
    "weight_decay = 0.0002\n",
    "batch_size = 32\n",
    "\n",
    "# Attack hyperparameters \n",
    "epsilon = 8.0 / 255\n",
    "alpha = 2.0 / 255\n",
    "steps = 10\n",
    "\n",
    "# Knowledge Distillation hyperparameters\n",
    "temp = 20.0\n",
    "alpha = 1.0"
   ]
  },
  {
   "cell_type": "code",
   "execution_count": 4,
   "metadata": {},
   "outputs": [],
   "source": [
    "# Graph writer initialize for data visualization\n",
    "\n",
    "writer = SummaryWriter(\"runs/trashbox/\" + f'{training_name}--{model_name}.{version}')"
   ]
  },
  {
   "cell_type": "code",
   "execution_count": 5,
   "metadata": {},
   "outputs": [],
   "source": [
    "\n",
    "# Initialize pre-trained weights - IMAGENET\n",
    "# Get the preprocessing for the respective pre-trained model\n",
    "\n",
    "preprocessing = transforms.Compose([\n",
    "    transforms.RandomResizedCrop((height, height)),\n",
    "    transforms.RandomHorizontalFlip(),\n",
    "    transforms.ToTensor(),\n",
    "    # transforms.Normalize(mean=mean, std=std)\n",
    "])\n",
    "test_preprocessing = transforms.Compose([\n",
    "    transforms.RandomResizedCrop((height, height)),\n",
    "    transforms.ToTensor(),\n",
    "    # transforms.Normalize(mean=mean, std=std)\n",
    "])"
   ]
  },
  {
   "cell_type": "code",
   "execution_count": 6,
   "metadata": {},
   "outputs": [
    {
     "name": "stdout",
     "output_type": "stream",
     "text": [
      "===>> Preparing data...\n"
     ]
    }
   ],
   "source": [
    "# Training and Validation dataset\n",
    "\n",
    "print('===>> Preparing data...')\n",
    "trash_train_dataset = torchvision.datasets.ImageFolder('dataset/trashbox/train', transform=preprocessing)\n",
    "trash_train_loader = torch.utils.data.DataLoader(dataset=trash_train_dataset, shuffle=True, batch_size=batch_size)\n",
    "trash_val_dataset = torchvision.datasets.ImageFolder('dataset/trashbox/val', transform=test_preprocessing)\n",
    "trash_val_loader = torch.utils.data.DataLoader(dataset=trash_val_dataset, shuffle=True, batch_size=batch_size)"
   ]
  },
  {
   "cell_type": "code",
   "execution_count": 7,
   "metadata": {},
   "outputs": [
    {
     "name": "stdout",
     "output_type": "stream",
     "text": [
      "====>> Setting up teacher model...\n"
     ]
    },
    {
     "ename": "FileNotFoundError",
     "evalue": "[Errno 2] No such file or directory: './best_trained_models/best_AT--Googlenet.v1_epoch98.pth'",
     "output_type": "error",
     "traceback": [
      "\u001b[1;31m---------------------------------------------------------------------------\u001b[0m",
      "\u001b[1;31mFileNotFoundError\u001b[0m                         Traceback (most recent call last)",
      "Cell \u001b[1;32mIn[7], line 4\u001b[0m\n\u001b[0;32m      1\u001b[0m \u001b[38;5;66;03m# Setup model \u001b[39;00m\n\u001b[0;32m      3\u001b[0m \u001b[38;5;28mprint\u001b[39m(\u001b[38;5;124m'\u001b[39m\u001b[38;5;124m====>> Setting up teacher model...\u001b[39m\u001b[38;5;124m'\u001b[39m)\n\u001b[1;32m----> 4\u001b[0m checkpoint \u001b[38;5;241m=\u001b[39m \u001b[43mtorch\u001b[49m\u001b[38;5;241;43m.\u001b[39;49m\u001b[43mload\u001b[49m\u001b[43m(\u001b[49m\u001b[38;5;124;43m'\u001b[39;49m\u001b[38;5;124;43m./best_trained_models/best_AT--Googlenet.v1_epoch98.pth\u001b[39;49m\u001b[38;5;124;43m'\u001b[39;49m\u001b[43m)\u001b[49m\n\u001b[0;32m      5\u001b[0m \u001b[38;5;66;03m# model = local_models.xception(num_classes=num_classes).to(device)\u001b[39;00m\n\u001b[0;32m      6\u001b[0m teacher_model \u001b[38;5;241m=\u001b[39m models\u001b[38;5;241m.\u001b[39mgooglenet(weights\u001b[38;5;241m=\u001b[39mmodels\u001b[38;5;241m.\u001b[39mGoogLeNet_Weights\u001b[38;5;241m.\u001b[39mDEFAULT)\n",
      "File \u001b[1;32mc:\\Users\\Acer\\.conda\\envs\\thesisaimodel\\Lib\\site-packages\\torch\\serialization.py:997\u001b[0m, in \u001b[0;36mload\u001b[1;34m(f, map_location, pickle_module, weights_only, mmap, **pickle_load_args)\u001b[0m\n\u001b[0;32m    994\u001b[0m \u001b[38;5;28;01mif\u001b[39;00m \u001b[38;5;124m'\u001b[39m\u001b[38;5;124mencoding\u001b[39m\u001b[38;5;124m'\u001b[39m \u001b[38;5;129;01mnot\u001b[39;00m \u001b[38;5;129;01min\u001b[39;00m pickle_load_args\u001b[38;5;241m.\u001b[39mkeys():\n\u001b[0;32m    995\u001b[0m     pickle_load_args[\u001b[38;5;124m'\u001b[39m\u001b[38;5;124mencoding\u001b[39m\u001b[38;5;124m'\u001b[39m] \u001b[38;5;241m=\u001b[39m \u001b[38;5;124m'\u001b[39m\u001b[38;5;124mutf-8\u001b[39m\u001b[38;5;124m'\u001b[39m\n\u001b[1;32m--> 997\u001b[0m \u001b[38;5;28;01mwith\u001b[39;00m \u001b[43m_open_file_like\u001b[49m\u001b[43m(\u001b[49m\u001b[43mf\u001b[49m\u001b[43m,\u001b[49m\u001b[43m \u001b[49m\u001b[38;5;124;43m'\u001b[39;49m\u001b[38;5;124;43mrb\u001b[39;49m\u001b[38;5;124;43m'\u001b[39;49m\u001b[43m)\u001b[49m \u001b[38;5;28;01mas\u001b[39;00m opened_file:\n\u001b[0;32m    998\u001b[0m     \u001b[38;5;28;01mif\u001b[39;00m _is_zipfile(opened_file):\n\u001b[0;32m    999\u001b[0m         \u001b[38;5;66;03m# The zipfile reader is going to advance the current file position.\u001b[39;00m\n\u001b[0;32m   1000\u001b[0m         \u001b[38;5;66;03m# If we want to actually tail call to torch.jit.load, we need to\u001b[39;00m\n\u001b[0;32m   1001\u001b[0m         \u001b[38;5;66;03m# reset back to the original position.\u001b[39;00m\n\u001b[0;32m   1002\u001b[0m         orig_position \u001b[38;5;241m=\u001b[39m opened_file\u001b[38;5;241m.\u001b[39mtell()\n",
      "File \u001b[1;32mc:\\Users\\Acer\\.conda\\envs\\thesisaimodel\\Lib\\site-packages\\torch\\serialization.py:444\u001b[0m, in \u001b[0;36m_open_file_like\u001b[1;34m(name_or_buffer, mode)\u001b[0m\n\u001b[0;32m    442\u001b[0m \u001b[38;5;28;01mdef\u001b[39;00m \u001b[38;5;21m_open_file_like\u001b[39m(name_or_buffer, mode):\n\u001b[0;32m    443\u001b[0m     \u001b[38;5;28;01mif\u001b[39;00m _is_path(name_or_buffer):\n\u001b[1;32m--> 444\u001b[0m         \u001b[38;5;28;01mreturn\u001b[39;00m \u001b[43m_open_file\u001b[49m\u001b[43m(\u001b[49m\u001b[43mname_or_buffer\u001b[49m\u001b[43m,\u001b[49m\u001b[43m \u001b[49m\u001b[43mmode\u001b[49m\u001b[43m)\u001b[49m\n\u001b[0;32m    445\u001b[0m     \u001b[38;5;28;01melse\u001b[39;00m:\n\u001b[0;32m    446\u001b[0m         \u001b[38;5;28;01mif\u001b[39;00m \u001b[38;5;124m'\u001b[39m\u001b[38;5;124mw\u001b[39m\u001b[38;5;124m'\u001b[39m \u001b[38;5;129;01min\u001b[39;00m mode:\n",
      "File \u001b[1;32mc:\\Users\\Acer\\.conda\\envs\\thesisaimodel\\Lib\\site-packages\\torch\\serialization.py:425\u001b[0m, in \u001b[0;36m_open_file.__init__\u001b[1;34m(self, name, mode)\u001b[0m\n\u001b[0;32m    424\u001b[0m \u001b[38;5;28;01mdef\u001b[39;00m \u001b[38;5;21m__init__\u001b[39m(\u001b[38;5;28mself\u001b[39m, name, mode):\n\u001b[1;32m--> 425\u001b[0m     \u001b[38;5;28msuper\u001b[39m()\u001b[38;5;241m.\u001b[39m\u001b[38;5;21m__init__\u001b[39m(\u001b[38;5;28;43mopen\u001b[39;49m\u001b[43m(\u001b[49m\u001b[43mname\u001b[49m\u001b[43m,\u001b[49m\u001b[43m \u001b[49m\u001b[43mmode\u001b[49m\u001b[43m)\u001b[49m)\n",
      "\u001b[1;31mFileNotFoundError\u001b[0m: [Errno 2] No such file or directory: './best_trained_models/best_AT--Googlenet.v1_epoch98.pth'"
     ]
    }
   ],
   "source": [
    "# Setup model \n",
    "\n",
    "print('====>> Setting up teacher model...')\n",
    "checkpoint = torch.load('./best_trained_models/best_AT--Googlenet.v1_epoch98.pth')\n",
    "# model = local_models.xception(num_classes=num_classes).to(device)\n",
    "teacher_model = models.googlenet(weights=models.GoogLeNet_Weights.DEFAULT)\n",
    "infeatures = teacher_model.fc.in_features\n",
    "\n",
    "for param in teacher_model.parameters():\n",
    "    param.requires_grad = False\n",
    "\n",
    "\n",
    "\n",
    "teacher_model.fc = nn.Linear(infeatures, num_classes, True)\n",
    "\n",
    "\n",
    "\n",
    "if 'module' in list(checkpoint['net'].keys())[0]:\n",
    "    new_state_dict = {k.replace(\"module.\", \"\"): v for k, v in checkpoint['net'].items()}\n",
    "    teacher_model.load_state_dict(new_state_dict)\n",
    "else:\n",
    "    teacher_model.load_state_dict(checkpoint['net'])\n",
    "\n",
    "teacher_model = teacher_model.to(device)\n"
   ]
  },
  {
   "cell_type": "code",
   "execution_count": null,
   "metadata": {},
   "outputs": [
    {
     "name": "stdout",
     "output_type": "stream",
     "text": [
      "====>> Setting up student model...\n"
     ]
    }
   ],
   "source": [
    "# Setup model \n",
    "\n",
    "print('====>> Setting up student model...')\n",
    "# model = local_models.xception(num_classes=num_classes).to(device)\n",
    "model = models.mobilenet_v3_small(weights=None)\n",
    "model.classifier = nn.Sequential(\n",
    "    nn.Linear(in_features=576, out_features=1024, bias=True),\n",
    "    nn.Hardswish(),\n",
    "    nn.Dropout(p=0.2, inplace=True),\n",
    "    nn.Linear(in_features=1024, out_features=num_classes, bias=True)\n",
    ")\n",
    "model = model.to(device)\n"
   ]
  },
  {
   "cell_type": "code",
   "execution_count": null,
   "metadata": {},
   "outputs": [],
   "source": [
    "# Setup Adversarial attack \n",
    "\n",
    "attack = torchattacks.PGD(model=model, eps=epsilon, alpha=alpha, steps=steps)\n",
    "\n",
    "class AttackPGD(nn.Module):\n",
    "    def __init__(self, basic_net, config):\n",
    "        super(AttackPGD, self).__init__()\n",
    "        self.basic_net = basic_net\n",
    "        self.step_size = config['step_size']\n",
    "        self.epsilon = config['epsilon']\n",
    "        self.num_steps = config['num_steps']\n",
    "\n",
    "    def forward(self, inputs, targets):\n",
    "        x = inputs.detach()\n",
    "        x = x + torch.zeros_like(x).uniform_(-self.epsilon, self.epsilon)\n",
    "        for i in range(self.num_steps):\n",
    "            x.requires_grad_()\n",
    "            with torch.enable_grad():\n",
    "                loss = F.cross_entropy(self.basic_net(x), targets, size_average=False)\n",
    "            grad = torch.autograd.grad(loss, [x])[0]\n",
    "            x = x.detach() + self.step_size*torch.sign(grad.detach())\n",
    "            x = torch.min(torch.max(x, inputs - self.epsilon), inputs + self.epsilon)\n",
    "            x = torch.clamp(x, 0.0, 1.0)\n",
    "        return self.basic_net(x), x"
   ]
  },
  {
   "cell_type": "code",
   "execution_count": null,
   "metadata": {},
   "outputs": [],
   "source": [
    "config = {\n",
    "    'step_size' : alpha,\n",
    "    'epsilon' : epsilon, \n",
    "    'num_steps' : steps\n",
    "}\n",
    "net = AttackPGD(model, config)"
   ]
  },
  {
   "cell_type": "code",
   "execution_count": null,
   "metadata": {},
   "outputs": [],
   "source": [
    "if device == 'cuda':\n",
    "    cudnn.benchmark = True"
   ]
  },
  {
   "cell_type": "code",
   "execution_count": null,
   "metadata": {},
   "outputs": [],
   "source": [
    "# Setup Loss function\n",
    "\n",
    "XENT_loss = nn.CrossEntropyLoss()\n",
    "KL_loss = nn.KLDivLoss()"
   ]
  },
  {
   "cell_type": "code",
   "execution_count": null,
   "metadata": {},
   "outputs": [],
   "source": [
    "# Train Loop\n",
    "\n",
    "def train(epoch, optimizer):\n",
    "    train_loss = 0\n",
    "    correct = 0\n",
    "    total = 0\n",
    "    adv_correct = 0\n",
    "    net.train()\n",
    "    iterator = tqdm(trash_train_loader, ncols=0, leave=False)\n",
    "    for i, (inputs, targets)in enumerate(iterator):\n",
    "        inputs, targets = inputs.to(device),targets.to(device)\n",
    "\n",
    "        optimizer.zero_grad()\n",
    "        # adv_image = attack(inputs, targets)\n",
    "        output,per_inputs = net(inputs, targets)\n",
    "        teacher_output = teacher_model(inputs)\n",
    "        basic_output = model(inputs)\n",
    "        # adv_basic_output = model(adv_image)\n",
    "        # _, predicted = adv_basic_output.max(1)\n",
    "        \n",
    "        loss =  alpha* temp* temp*KL_loss(F.log_softmax(output/ temp, dim=1),F.softmax(teacher_output/ temp, dim=1))+(1.0- alpha)*XENT_loss(basic_output, targets)\n",
    "        loss.backward()\n",
    "    \n",
    "        optimizer.step()\n",
    "        train_loss += loss.item()\n",
    "        iterator.set_description(str(loss.item()))       \n",
    "        total += targets.size(0)\n",
    "        \n",
    "        _, predicted = basic_output.max(1)\n",
    "        correct += predicted.eq(targets).sum().item()\n",
    "        _, adv_predicted = output.max(1)\n",
    "        adv_correct += adv_predicted.eq(targets).sum().item()\n",
    "        \n",
    "    validation_loss = train_loss  / len(trash_val_dataset)\n",
    "    train_adv_accuracy = 100.0 * correct / total\n",
    "    adv_train_adv_accuracy = 100.0 * adv_correct / total\n",
    "    \n",
    "    print('\\nTotal adversarial train accuarcy:', 100. * correct / total)\n",
    "    print('Total adversarial train loss:', train_loss)\n",
    "    \n",
    "    writer.add_scalar('Train loss: ' + model_name, validation_loss, epoch)\n",
    "    writer.add_scalar('Train accuracy: ' + model_name, train_adv_accuracy, epoch)\n",
    "    writer.add_scalar('Adversarial Train accuracy: ' + model_name, adv_train_adv_accuracy, epoch)"
   ]
  },
  {
   "cell_type": "code",
   "execution_count": null,
   "metadata": {},
   "outputs": [],
   "source": [
    "# Test function\n",
    "best_loss = float(0)\n",
    "\n",
    "def test(epoch, optimizer):\n",
    "    global best_loss\n",
    "    print('\\n[ Test epoch: %d ]' % epoch)\n",
    "    net.eval()\n",
    "    benign_loss = 0\n",
    "    adv_loss = 0\n",
    "    benign_correct = 0\n",
    "    adv_correct = 0\n",
    "    total = 0\n",
    "    with torch.no_grad():\n",
    "        iterator = tqdm(trash_val_loader, ncols=0, leave=False)\n",
    "        for i, (inputs, targets) in enumerate(iterator):\n",
    "            inputs, targets = inputs.to(device), targets.to(device)\n",
    "            total += targets.size(0)\n",
    "        \n",
    "            adv_outputs, pert_inputs = net(inputs, targets)\n",
    "            natural_outputs = model(inputs)\n",
    "            _, adv_predicted = adv_outputs.max(1)\n",
    "            _, natural_predicted = natural_outputs.max(1)\n",
    "            \n",
    "            benign_correct += natural_predicted.eq(targets).sum().item()\n",
    "            adv_correct += adv_predicted.eq(targets).sum().item()\n",
    "\n",
    "            iterator.set_description(str(adv_predicted.eq(targets).sum().item()/targets.size(0)))\n",
    "    \n",
    "    benign_val_accuracy = 100.0 * benign_correct / total\n",
    "    adv_val_accuracy = 100.0 * adv_correct / total \n",
    "    \n",
    "    print('\\nTotal benign test accuarcy:', benign_val_accuracy)\n",
    "    print('Total adversarial test Accuarcy:', adv_val_accuracy)\n",
    "    \n",
    "    # Graph\n",
    "    writer.add_scalar(\"Natural test accuracy: \" + model_name, benign_val_accuracy, epoch)\n",
    "    writer.add_scalar(\"Adversarial test accuracy: \" + model_name, adv_val_accuracy, epoch)\n",
    "    \n",
    "    # Save checkpoint\n",
    "    state = {\n",
    "        'epoch' : epoch,\n",
    "        'net': model.state_dict(),\n",
    "        'optim' : optimizer.state_dict()\n",
    "    }\n",
    "    if not os.path.isdir('checkpoint'):\n",
    "        os.mkdir('checkpoint')\n",
    "    torch.save(state, './checkpoint/' + f'{training_name}--{model_name}.{version}.pth')\n",
    "    if benign_val_accuracy > best_loss:\n",
    "        print(f'Model saved: f{benign_val_accuracy}')\n",
    "        torch.save(state, './trained_model/' + f'best_{training_name}_{model_name}_{version}_epoch{epoch}.pth')\n",
    "    print('Model Saved!')\n",
    "    return benign_val_accuracy, adv_val_accuracy"
   ]
  },
  {
   "cell_type": "code",
   "execution_count": null,
   "metadata": {},
   "outputs": [],
   "source": [
    "def main():\n",
    "    learning_rate = lr\n",
    "    optimizer = optim.Adam(net.parameters(), lr=learning_rate, weight_decay=0.0002)\n",
    "    model_path = f'./checkpoint/{training_name}--{model_name}.{version}.pth'\n",
    "    scheduler = torch.optim.lr_scheduler.ReduceLROnPlateau(optimizer, mode='max', patience=lr_threshold, factor=lr_factor)\n",
    "    if os.path.exists(model_path):\n",
    "        # Load the saved model and optimizer state\n",
    "        checkpoint = torch.load(model_path)\n",
    "        model.load_state_dict(checkpoint['net'])\n",
    "        optimizer.load_state_dict(checkpoint['optim'])\n",
    "        start_epoch = checkpoint['epoch'] + 1\n",
    "        print(f\"=> Loaded checkpoint '{model_path}' (epoch {start_epoch})\")\n",
    "    else:\n",
    "        start_epoch = 0\n",
    "        print(f\"=> No checkpoint found at '{model_path}'. Starting training from scratch.\")\n",
    "\n",
    "\n",
    "    for epoch in range(start_epoch, epochs):\n",
    "        train_loss = train(epoch, optimizer)\n",
    "        benign_val_accuracy , _ =test(epoch, optimizer)\n",
    "        scheduler.step(metrics=benign_val_accuracy, epoch=epoch)\n",
    "        scheduler.print_lr(True, model.parameters(), learning_rate, epoch)"
   ]
  },
  {
   "cell_type": "code",
   "execution_count": null,
   "metadata": {},
   "outputs": [
    {
     "name": "stdout",
     "output_type": "stream",
     "text": [
      "=> No checkpoint found at './checkpoint/ARD_NotPretrainMobilenet--Mobilenetv3Small.v1.pth'. Starting training from scratch.\n"
     ]
    },
    {
     "name": "stderr",
     "output_type": "stream",
     "text": [
      "  0% 0/447 [00:00<?, ?it/s]c:\\Users\\MY PC\\anaconda3\\envs\\thesisaimodel\\Lib\\site-packages\\torch\\nn\\_reduction.py:42: UserWarning: size_average and reduce args will be deprecated, please use reduction='sum' instead.\n",
      "  warnings.warn(warning.format(ret))\n",
      "c:\\Users\\MY PC\\anaconda3\\envs\\thesisaimodel\\Lib\\site-packages\\torch\\nn\\functional.py:2949: UserWarning: reduction: 'mean' divides the total loss by both the batch size and the support size.'batchmean' divides only by the batch size, and aligns with the KL div math definition.'mean' will be changed to behave the same as 'batchmean' in the next major release.\n",
      "  warnings.warn(\n",
      "0.1980627477169037:   4% 17/447 [00:10<04:46,  1.50it/s] c:\\Users\\MY PC\\anaconda3\\envs\\thesisaimodel\\Lib\\site-packages\\PIL\\Image.py:981: UserWarning: Palette images with Transparency expressed in bytes should be converted to RGBA images\n",
      "  warnings.warn(\n",
      "                                                          \r"
     ]
    },
    {
     "name": "stdout",
     "output_type": "stream",
     "text": [
      "\n",
      "Total adversarial train accuarcy: 21.556131381749424\n",
      "Total adversarial train loss: 80.88373227417469\n",
      "\n",
      "[ Test epoch: 0 ]\n"
     ]
    },
    {
     "name": "stderr",
     "output_type": "stream",
     "text": [
      "c:\\Users\\MY PC\\anaconda3\\envs\\thesisaimodel\\Lib\\site-packages\\torch\\optim\\lr_scheduler.py:1056: UserWarning: The epoch parameter in `scheduler.step()` was not necessary and is being deprecated where possible. Please use `scheduler.step()` to step the scheduler. During the deprecation, if epoch is different from None, the closed form is used instead of the new chainable form, where available. Please open an issue if you are unable to replicate your use case: https://github.com/pytorch/pytorch/issues/new/choose.\n",
      "  warnings.warn(EPOCH_DEPRECATION_WARNING, UserWarning)\n"
     ]
    },
    {
     "name": "stdout",
     "output_type": "stream",
     "text": [
      "\n",
      "Total benign test accuarcy: 28.017967434025827\n",
      "Total adversarial test Accuarcy: 17.85513756316676\n",
      "Model Saved!\n",
      "Epoch 00000: adjusting learning rate of group <generator object Module.parameters at 0x00000224F86A7680> to 1.0000e-04.\n"
     ]
    },
    {
     "name": "stderr",
     "output_type": "stream",
     "text": [
      "                                                          \r"
     ]
    },
    {
     "name": "stdout",
     "output_type": "stream",
     "text": [
      "\n",
      "Total adversarial train accuarcy: 28.720498634358147\n",
      "Total adversarial train loss: 73.71467221528292\n",
      "\n",
      "[ Test epoch: 1 ]\n"
     ]
    },
    {
     "name": "stderr",
     "output_type": "stream",
     "text": [
      "                                                       \r"
     ]
    },
    {
     "name": "stdout",
     "output_type": "stream",
     "text": [
      "\n",
      "Total benign test accuarcy: 29.30937675463223\n",
      "Total adversarial test Accuarcy: 21.67321729365525\n",
      "Model Saved!\n",
      "Epoch 00001: adjusting learning rate of group <generator object Module.parameters at 0x00000224F86A7680> to 1.0000e-04.\n"
     ]
    },
    {
     "name": "stderr",
     "output_type": "stream",
     "text": [
      "                                                          \r"
     ]
    },
    {
     "name": "stdout",
     "output_type": "stream",
     "text": [
      "\n",
      "Total adversarial train accuarcy: 30.905525597030604\n",
      "Total adversarial train loss: 68.30788462609053\n",
      "\n",
      "[ Test epoch: 2 ]\n"
     ]
    },
    {
     "name": "stderr",
     "output_type": "stream",
     "text": [
      "                                                        \r"
     ]
    },
    {
     "name": "stdout",
     "output_type": "stream",
     "text": [
      "\n",
      "Total benign test accuarcy: 32.79056709713644\n",
      "Total adversarial test Accuarcy: 27.400336889387983\n",
      "Model Saved!\n",
      "Epoch 00002: adjusting learning rate of group <generator object Module.parameters at 0x00000224F86A7BC0> to 1.0000e-04.\n"
     ]
    },
    {
     "name": "stderr",
     "output_type": "stream",
     "text": [
      "                                                          \r"
     ]
    },
    {
     "name": "stdout",
     "output_type": "stream",
     "text": [
      "\n",
      "Total adversarial train accuarcy: 34.59626024231389\n",
      "Total adversarial train loss: 61.38489577919245\n",
      "\n",
      "[ Test epoch: 3 ]\n"
     ]
    },
    {
     "name": "stderr",
     "output_type": "stream",
     "text": [
      "                                                        \r"
     ]
    },
    {
     "name": "stdout",
     "output_type": "stream",
     "text": [
      "\n",
      "Total benign test accuarcy: 35.48568220101067\n",
      "Total adversarial test Accuarcy: 30.993823694553623\n",
      "Model Saved!\n",
      "Epoch 00003: adjusting learning rate of group <generator object Module.parameters at 0x00000224F86A7D80> to 1.0000e-04.\n"
     ]
    },
    {
     "name": "stderr",
     "output_type": "stream",
     "text": [
      "                                                          \r"
     ]
    },
    {
     "name": "stdout",
     "output_type": "stream",
     "text": [
      "\n",
      "Total adversarial train accuarcy: 37.07542544996148\n",
      "Total adversarial train loss: 56.68654713779688\n",
      "\n",
      "[ Test epoch: 4 ]\n"
     ]
    },
    {
     "name": "stderr",
     "output_type": "stream",
     "text": [
      "                                                        \r"
     ]
    },
    {
     "name": "stdout",
     "output_type": "stream",
     "text": [
      "\n",
      "Total benign test accuarcy: 39.69679955081415\n",
      "Total adversarial test Accuarcy: 34.362717574396406\n",
      "Model Saved!\n",
      "Epoch 00004: adjusting learning rate of group <generator object Module.parameters at 0x00000224F86A7D80> to 1.0000e-04.\n"
     ]
    },
    {
     "name": "stderr",
     "output_type": "stream",
     "text": [
      "                                                          \r"
     ]
    },
    {
     "name": "stdout",
     "output_type": "stream",
     "text": [
      "\n",
      "Total adversarial train accuarcy: 38.85426150290637\n",
      "Total adversarial train loss: 52.904859971255064\n",
      "\n",
      "[ Test epoch: 5 ]\n"
     ]
    },
    {
     "name": "stderr",
     "output_type": "stream",
     "text": [
      "                                                       \r"
     ]
    },
    {
     "name": "stdout",
     "output_type": "stream",
     "text": [
      "\n",
      "Total benign test accuarcy: 39.24761370016844\n",
      "Total adversarial test Accuarcy: 37.057832678270636\n",
      "Model Saved!\n",
      "Epoch 00005: adjusting learning rate of group <generator object Module.parameters at 0x00000224F86A7BC0> to 1.0000e-04.\n"
     ]
    },
    {
     "name": "stderr",
     "output_type": "stream",
     "text": [
      "                                                           \r"
     ]
    },
    {
     "name": "stdout",
     "output_type": "stream",
     "text": [
      "\n",
      "Total adversarial train accuarcy: 40.10084739827719\n",
      "Total adversarial train loss: 49.95597738400102\n",
      "\n",
      "[ Test epoch: 6 ]\n"
     ]
    },
    {
     "name": "stderr",
     "output_type": "stream",
     "text": [
      "                                                       \r"
     ]
    },
    {
     "name": "stdout",
     "output_type": "stream",
     "text": [
      "\n",
      "Total benign test accuarcy: 41.38124649073554\n",
      "Total adversarial test Accuarcy: 39.86524424480629\n",
      "Model Saved!\n",
      "Epoch 00006: adjusting learning rate of group <generator object Module.parameters at 0x00000224F86A7D80> to 1.0000e-04.\n"
     ]
    },
    {
     "name": "stderr",
     "output_type": "stream",
     "text": [
      "                                                          \r"
     ]
    },
    {
     "name": "stdout",
     "output_type": "stream",
     "text": [
      "\n",
      "Total adversarial train accuarcy: 41.277400378177745\n",
      "Total adversarial train loss: 47.654406026005745\n",
      "\n",
      "[ Test epoch: 7 ]\n"
     ]
    },
    {
     "name": "stderr",
     "output_type": "stream",
     "text": [
      "                                                        \r"
     ]
    },
    {
     "name": "stdout",
     "output_type": "stream",
     "text": [
      "\n",
      "Total benign test accuarcy: 41.99887703537338\n",
      "Total adversarial test Accuarcy: 42.11117349803481\n",
      "Model Saved!\n",
      "Epoch 00007: adjusting learning rate of group <generator object Module.parameters at 0x00000224F86A7D80> to 1.0000e-04.\n"
     ]
    },
    {
     "name": "stderr",
     "output_type": "stream",
     "text": [
      "                                                          \r"
     ]
    },
    {
     "name": "stdout",
     "output_type": "stream",
     "text": [
      "\n",
      "Total adversarial train accuarcy: 41.44547937530639\n",
      "Total adversarial train loss: 46.13930682837963\n",
      "\n",
      "[ Test epoch: 8 ]\n"
     ]
    },
    {
     "name": "stderr",
     "output_type": "stream",
     "text": [
      "                                                        \r"
     ]
    },
    {
     "name": "stdout",
     "output_type": "stream",
     "text": [
      "\n",
      "Total benign test accuarcy: 43.00954519932622\n",
      "Total adversarial test Accuarcy: 42.72880404267266\n",
      "Model Saved!\n",
      "Epoch 00008: adjusting learning rate of group <generator object Module.parameters at 0x00000224F86A7680> to 1.0000e-04.\n"
     ]
    },
    {
     "name": "stderr",
     "output_type": "stream",
     "text": [
      "                                                          \r"
     ]
    },
    {
     "name": "stdout",
     "output_type": "stream",
     "text": [
      "\n",
      "Total adversarial train accuarcy: 42.54499614818965\n",
      "Total adversarial train loss: 43.795257959514856\n",
      "\n",
      "[ Test epoch: 9 ]\n"
     ]
    },
    {
     "name": "stderr",
     "output_type": "stream",
     "text": [
      "                                                        \r"
     ]
    },
    {
     "name": "stdout",
     "output_type": "stream",
     "text": [
      "\n",
      "Total benign test accuarcy: 43.62717574396407\n",
      "Total adversarial test Accuarcy: 45.70466030320045\n",
      "Model Saved!\n",
      "Epoch 00009: adjusting learning rate of group <generator object Module.parameters at 0x00000224F86A7D80> to 1.0000e-04.\n"
     ]
    },
    {
     "name": "stderr",
     "output_type": "stream",
     "text": [
      "                                                          \r"
     ]
    },
    {
     "name": "stdout",
     "output_type": "stream",
     "text": [
      "\n",
      "Total adversarial train accuarcy: 42.62203235520695\n",
      "Total adversarial train loss: 42.79326059669256\n",
      "\n",
      "[ Test epoch: 10 ]\n"
     ]
    },
    {
     "name": "stderr",
     "output_type": "stream",
     "text": [
      "                                                        \r"
     ]
    },
    {
     "name": "stdout",
     "output_type": "stream",
     "text": [
      "\n",
      "Total benign test accuarcy: 43.683323975294776\n",
      "Total adversarial test Accuarcy: 43.73947220662549\n",
      "Model Saved!\n",
      "Epoch 00010: adjusting learning rate of group <generator object Module.parameters at 0x00000224F86A7680> to 1.0000e-04.\n"
     ]
    },
    {
     "name": "stderr",
     "output_type": "stream",
     "text": [
      "                                                           \r"
     ]
    },
    {
     "name": "stdout",
     "output_type": "stream",
     "text": [
      "\n",
      "Total adversarial train accuarcy: 43.67952937880804\n",
      "Total adversarial train loss: 41.61601698771119\n",
      "\n",
      "[ Test epoch: 11 ]\n"
     ]
    },
    {
     "name": "stderr",
     "output_type": "stream",
     "text": [
      "                                                       \r"
     ]
    },
    {
     "name": "stdout",
     "output_type": "stream",
     "text": [
      "\n",
      "Total benign test accuarcy: 43.964065131948345\n",
      "Total adversarial test Accuarcy: 44.581695676586186\n",
      "Model Saved!\n",
      "Epoch 00011: adjusting learning rate of group <generator object Module.parameters at 0x00000224F86A7BC0> to 1.0000e-04.\n"
     ]
    },
    {
     "name": "stderr",
     "output_type": "stream",
     "text": [
      "                                                           \r"
     ]
    },
    {
     "name": "stdout",
     "output_type": "stream",
     "text": [
      "\n",
      "Total adversarial train accuarcy: 44.28181245185237\n",
      "Total adversarial train loss: 40.34194704890251\n",
      "\n",
      "[ Test epoch: 12 ]\n"
     ]
    },
    {
     "name": "stderr",
     "output_type": "stream",
     "text": [
      "                                                       \r"
     ]
    },
    {
     "name": "stdout",
     "output_type": "stream",
     "text": [
      "\n",
      "Total benign test accuarcy: 44.46939921392476\n",
      "Total adversarial test Accuarcy: 47.55755193711398\n",
      "Model Saved!\n",
      "Epoch 00012: adjusting learning rate of group <generator object Module.parameters at 0x00000224F86A7BC0> to 1.0000e-04.\n"
     ]
    },
    {
     "name": "stderr",
     "output_type": "stream",
     "text": [
      "                                                           \r"
     ]
    },
    {
     "name": "stdout",
     "output_type": "stream",
     "text": [
      "\n",
      "Total adversarial train accuarcy: 43.777575460466416\n",
      "Total adversarial train loss: 39.00872636586428\n",
      "\n",
      "[ Test epoch: 13 ]\n"
     ]
    },
    {
     "name": "stderr",
     "output_type": "stream",
     "text": [
      "                                                       \r"
     ]
    },
    {
     "name": "stdout",
     "output_type": "stream",
     "text": [
      "\n",
      "Total benign test accuarcy: 44.69399213924761\n",
      "Total adversarial test Accuarcy: 49.410443571027514\n",
      "Model Saved!\n",
      "Epoch 00013: adjusting learning rate of group <generator object Module.parameters at 0x00000224F86A7680> to 1.0000e-04.\n"
     ]
    },
    {
     "name": "stderr",
     "output_type": "stream",
     "text": [
      "                                                           \r"
     ]
    },
    {
     "name": "stdout",
     "output_type": "stream",
     "text": [
      "\n",
      "Total adversarial train accuarcy: 45.220253519154\n",
      "Total adversarial train loss: 37.86282551288605\n",
      "\n",
      "[ Test epoch: 14 ]\n"
     ]
    },
    {
     "name": "stderr",
     "output_type": "stream",
     "text": [
      "                                                        \r"
     ]
    },
    {
     "name": "stdout",
     "output_type": "stream",
     "text": [
      "\n",
      "Total benign test accuarcy: 44.918585064570465\n",
      "Total adversarial test Accuarcy: 49.85962942167322\n",
      "Model Saved!\n",
      "Epoch 00014: adjusting learning rate of group <generator object Module.parameters at 0x00000224F86A7BC0> to 1.0000e-04.\n"
     ]
    },
    {
     "name": "stderr",
     "output_type": "stream",
     "text": [
      "                                                           \r"
     ]
    },
    {
     "name": "stdout",
     "output_type": "stream",
     "text": [
      "\n",
      "Total adversarial train accuarcy: 45.19924364451292\n",
      "Total adversarial train loss: 37.175798173993826\n",
      "\n",
      "[ Test epoch: 15 ]\n"
     ]
    },
    {
     "name": "stderr",
     "output_type": "stream",
     "text": [
      "                                                       \r"
     ]
    },
    {
     "name": "stdout",
     "output_type": "stream",
     "text": [
      "\n",
      "Total benign test accuarcy: 43.121841661987645\n",
      "Total adversarial test Accuarcy: 49.29814710836609\n",
      "Model Saved!\n",
      "Epoch 00015: adjusting learning rate of group <generator object Module.parameters at 0x00000224F86A7A00> to 1.0000e-04.\n"
     ]
    },
    {
     "name": "stderr",
     "output_type": "stream",
     "text": [
      "                                                           \r"
     ]
    },
    {
     "name": "stdout",
     "output_type": "stream",
     "text": [
      "\n",
      "Total adversarial train accuarcy: 44.86308565025562\n",
      "Total adversarial train loss: 36.825024388730526\n",
      "\n",
      "[ Test epoch: 16 ]\n"
     ]
    },
    {
     "name": "stderr",
     "output_type": "stream",
     "text": [
      "                                                        \r"
     ]
    },
    {
     "name": "stdout",
     "output_type": "stream",
     "text": [
      "\n",
      "Total benign test accuarcy: 46.43458731049972\n",
      "Total adversarial test Accuarcy: 49.52274003368894\n",
      "Model Saved!\n",
      "Epoch 00016: adjusting learning rate of group <generator object Module.parameters at 0x00000224F86A7A00> to 1.0000e-04.\n"
     ]
    },
    {
     "name": "stderr",
     "output_type": "stream",
     "text": [
      "                                                           \r"
     ]
    },
    {
     "name": "stdout",
     "output_type": "stream",
     "text": [
      "\n",
      "Total adversarial train accuarcy: 46.011625463968066\n",
      "Total adversarial train loss: 35.91597256809473\n",
      "\n",
      "[ Test epoch: 17 ]\n"
     ]
    },
    {
     "name": "stderr",
     "output_type": "stream",
     "text": [
      "                                                        \r"
     ]
    },
    {
     "name": "stdout",
     "output_type": "stream",
     "text": [
      "\n",
      "Total benign test accuarcy: 45.423919146546886\n",
      "Total adversarial test Accuarcy: 50.08422234699607\n",
      "Model Saved!\n",
      "Epoch 00017: adjusting learning rate of group <generator object Module.parameters at 0x00000224F86A7A00> to 1.0000e-04.\n"
     ]
    },
    {
     "name": "stderr",
     "output_type": "stream",
     "text": [
      "                                                           \r"
     ]
    },
    {
     "name": "stdout",
     "output_type": "stream",
     "text": [
      "\n",
      "Total adversarial train accuarcy: 46.41081308214861\n",
      "Total adversarial train loss: 34.17512973770499\n",
      "\n",
      "[ Test epoch: 18 ]\n"
     ]
    },
    {
     "name": "stderr",
     "output_type": "stream",
     "text": [
      "                                                       \r"
     ]
    },
    {
     "name": "stdout",
     "output_type": "stream",
     "text": [
      "\n",
      "Total benign test accuarcy: 47.05221785513756\n",
      "Total adversarial test Accuarcy: 54.239191465468835\n",
      "Model Saved!\n",
      "Epoch 00018: adjusting learning rate of group <generator object Module.parameters at 0x00000224F86A7BC0> to 1.0000e-04.\n"
     ]
    },
    {
     "name": "stderr",
     "output_type": "stream",
     "text": [
      "                                                           \r"
     ]
    },
    {
     "name": "stdout",
     "output_type": "stream",
     "text": [
      "\n",
      "Total adversarial train accuarcy: 45.990615589326985\n",
      "Total adversarial train loss: 33.33315381035209\n",
      "\n",
      "[ Test epoch: 19 ]\n"
     ]
    },
    {
     "name": "stderr",
     "output_type": "stream",
     "text": [
      "                                                        \r"
     ]
    },
    {
     "name": "stdout",
     "output_type": "stream",
     "text": [
      "\n",
      "Total benign test accuarcy: 45.70466030320045\n",
      "Total adversarial test Accuarcy: 54.35148792813026\n",
      "Model Saved!\n",
      "Epoch 00019: adjusting learning rate of group <generator object Module.parameters at 0x00000224F86A7A00> to 1.0000e-04.\n"
     ]
    },
    {
     "name": "stderr",
     "output_type": "stream",
     "text": [
      "                                                           \r"
     ]
    },
    {
     "name": "stdout",
     "output_type": "stream",
     "text": [
      "\n",
      "Total adversarial train accuarcy: 46.64892499474753\n",
      "Total adversarial train loss: 32.698474790900946\n",
      "\n",
      "[ Test epoch: 20 ]\n"
     ]
    },
    {
     "name": "stderr",
     "output_type": "stream",
     "text": [
      "                                                       \r"
     ]
    },
    {
     "name": "stdout",
     "output_type": "stream",
     "text": [
      "\n",
      "Total benign test accuarcy: 45.25547445255474\n",
      "Total adversarial test Accuarcy: 53.11622683885457\n",
      "Model Saved!\n",
      "Epoch 00020: adjusting learning rate of group <generator object Module.parameters at 0x00000224F86A7D80> to 1.0000e-04.\n"
     ]
    },
    {
     "name": "stderr",
     "output_type": "stream",
     "text": [
      "                                                           \r"
     ]
    },
    {
     "name": "stdout",
     "output_type": "stream",
     "text": [
      "\n",
      "Total adversarial train accuarcy: 47.272217942432945\n",
      "Total adversarial train loss: 31.721785437315702\n",
      "\n",
      "[ Test epoch: 21 ]\n"
     ]
    },
    {
     "name": "stderr",
     "output_type": "stream",
     "text": [
      "                                                       \r"
     ]
    },
    {
     "name": "stdout",
     "output_type": "stream",
     "text": [
      "\n",
      "Total benign test accuarcy: 47.276810780460416\n",
      "Total adversarial test Accuarcy: 54.576080853453114\n",
      "Model Saved!\n",
      "Epoch 00021: adjusting learning rate of group <generator object Module.parameters at 0x00000224F86A7D80> to 1.0000e-04.\n"
     ]
    },
    {
     "name": "stderr",
     "output_type": "stream",
     "text": [
      "                                                           \r"
     ]
    },
    {
     "name": "stdout",
     "output_type": "stream",
     "text": [
      "\n",
      "Total adversarial train accuarcy: 47.664402269066464\n",
      "Total adversarial train loss: 30.24778948351741\n",
      "\n",
      "[ Test epoch: 22 ]\n"
     ]
    },
    {
     "name": "stderr",
     "output_type": "stream",
     "text": [
      "                                                       \r"
     ]
    },
    {
     "name": "stdout",
     "output_type": "stream",
     "text": [
      "\n",
      "Total benign test accuarcy: 48.62436833239753\n",
      "Total adversarial test Accuarcy: 56.48512071869736\n",
      "Model Saved!\n",
      "Epoch 00022: adjusting learning rate of group <generator object Module.parameters at 0x00000224F86A7D80> to 1.0000e-04.\n"
     ]
    },
    {
     "name": "stderr",
     "output_type": "stream",
     "text": [
      "                                                           \r"
     ]
    },
    {
     "name": "stdout",
     "output_type": "stream",
     "text": [
      "\n",
      "Total adversarial train accuarcy: 47.97254709713565\n",
      "Total adversarial train loss: 30.1203257702291\n",
      "\n",
      "[ Test epoch: 23 ]\n"
     ]
    },
    {
     "name": "stderr",
     "output_type": "stream",
     "text": [
      "                                                        \r"
     ]
    },
    {
     "name": "stdout",
     "output_type": "stream",
     "text": [
      "\n",
      "Total benign test accuarcy: 47.669848399775404\n",
      "Total adversarial test Accuarcy: 58.674901740595175\n",
      "Model Saved!\n",
      "Epoch 00023: adjusting learning rate of group <generator object Module.parameters at 0x00000224F86A7680> to 1.0000e-04.\n"
     ]
    },
    {
     "name": "stderr",
     "output_type": "stream",
     "text": [
      "                                                           \r"
     ]
    },
    {
     "name": "stdout",
     "output_type": "stream",
     "text": [
      "\n",
      "Total adversarial train accuarcy: 47.57335947895511\n",
      "Total adversarial train loss: 29.54401594772935\n",
      "\n",
      "[ Test epoch: 24 ]\n"
     ]
    },
    {
     "name": "stderr",
     "output_type": "stream",
     "text": [
      "                                                        \r"
     ]
    },
    {
     "name": "stdout",
     "output_type": "stream",
     "text": [
      "\n",
      "Total benign test accuarcy: 46.771476698484\n",
      "Total adversarial test Accuarcy: 58.394160583941606\n",
      "Model Saved!\n",
      "Epoch 00024: adjusting learning rate of group <generator object Module.parameters at 0x00000224F86A7680> to 1.0000e-04.\n"
     ]
    },
    {
     "name": "stderr",
     "output_type": "stream",
     "text": [
      "                                                           \r"
     ]
    },
    {
     "name": "stdout",
     "output_type": "stream",
     "text": [
      "\n",
      "Total adversarial train accuarcy: 48.84795854051404\n",
      "Total adversarial train loss: 28.96480793133378\n",
      "\n",
      "[ Test epoch: 25 ]\n"
     ]
    },
    {
     "name": "stderr",
     "output_type": "stream",
     "text": [
      "                                                       \r"
     ]
    },
    {
     "name": "stdout",
     "output_type": "stream",
     "text": [
      "\n",
      "Total benign test accuarcy: 47.16451431779899\n",
      "Total adversarial test Accuarcy: 56.2043795620438\n",
      "Model Saved!\n",
      "Epoch 00025: adjusting learning rate of group <generator object Module.parameters at 0x00000224F86A7A00> to 1.0000e-04.\n"
     ]
    },
    {
     "name": "stderr",
     "output_type": "stream",
     "text": [
      "                                                           \r"
     ]
    },
    {
     "name": "stdout",
     "output_type": "stream",
     "text": [
      "\n",
      "Total adversarial train accuarcy: 47.91652076475944\n",
      "Total adversarial train loss: 28.718338888138533\n",
      "\n",
      "[ Test epoch: 26 ]\n"
     ]
    },
    {
     "name": "stderr",
     "output_type": "stream",
     "text": [
      "                                                       \r"
     ]
    },
    {
     "name": "stdout",
     "output_type": "stream",
     "text": [
      "\n",
      "Total benign test accuarcy: 49.691184727681076\n",
      "Total adversarial test Accuarcy: 55.8113419427288\n",
      "Model Saved!\n",
      "Epoch 00026: adjusting learning rate of group <generator object Module.parameters at 0x00000224F86A7A00> to 1.0000e-04.\n"
     ]
    },
    {
     "name": "stderr",
     "output_type": "stream",
     "text": [
      "                                                           \r"
     ]
    },
    {
     "name": "stdout",
     "output_type": "stream",
     "text": [
      "\n",
      "Total adversarial train accuarcy: 48.056586595699976\n",
      "Total adversarial train loss: 28.408924341201782\n",
      "\n",
      "[ Test epoch: 27 ]\n"
     ]
    },
    {
     "name": "stderr",
     "output_type": "stream",
     "text": [
      "                                                       \r"
     ]
    },
    {
     "name": "stdout",
     "output_type": "stream",
     "text": [
      "\n",
      "Total benign test accuarcy: 48.792813026389666\n",
      "Total adversarial test Accuarcy: 58.28186412128018\n",
      "Model Saved!\n",
      "Epoch 00027: adjusting learning rate of group <generator object Module.parameters at 0x00000224F86A7D80> to 1.0000e-04.\n"
     ]
    },
    {
     "name": "stderr",
     "output_type": "stream",
     "text": [
      "                                                           \r"
     ]
    },
    {
     "name": "stdout",
     "output_type": "stream",
     "text": [
      "\n",
      "Total adversarial train accuarcy: 48.7078927095735\n",
      "Total adversarial train loss: 27.872618351131678\n",
      "\n",
      "[ Test epoch: 28 ]\n"
     ]
    },
    {
     "name": "stderr",
     "output_type": "stream",
     "text": [
      "                                                       \r"
     ]
    },
    {
     "name": "stdout",
     "output_type": "stream",
     "text": [
      "\n",
      "Total benign test accuarcy: 48.792813026389666\n",
      "Total adversarial test Accuarcy: 59.12408759124087\n",
      "Model Saved!\n",
      "Epoch 00028: adjusting learning rate of group <generator object Module.parameters at 0x00000224F86A7D80> to 1.0000e-04.\n"
     ]
    },
    {
     "name": "stderr",
     "output_type": "stream",
     "text": [
      "                                                           \r"
     ]
    },
    {
     "name": "stdout",
     "output_type": "stream",
     "text": [
      "\n",
      "Total adversarial train accuarcy: 48.32971496603404\n",
      "Total adversarial train loss: 27.79508690163493\n",
      "\n",
      "[ Test epoch: 29 ]\n"
     ]
    },
    {
     "name": "stderr",
     "output_type": "stream",
     "text": [
      "                                                        \r"
     ]
    },
    {
     "name": "stdout",
     "output_type": "stream",
     "text": [
      "\n",
      "Total benign test accuarcy: 47.276810780460416\n",
      "Total adversarial test Accuarcy: 56.26052779337451\n",
      "Model Saved!\n",
      "Epoch 00029: adjusting learning rate of group <generator object Module.parameters at 0x00000224F86A7680> to 1.0000e-04.\n"
     ]
    },
    {
     "name": "stderr",
     "output_type": "stream",
     "text": [
      "                                                           \r"
     ]
    },
    {
     "name": "stdout",
     "output_type": "stream",
     "text": [
      "\n",
      "Total adversarial train accuarcy: 48.79893549968485\n",
      "Total adversarial train loss: 27.279375553131104\n",
      "\n",
      "[ Test epoch: 30 ]\n"
     ]
    },
    {
     "name": "stderr",
     "output_type": "stream",
     "text": [
      "                                                       \r"
     ]
    },
    {
     "name": "stdout",
     "output_type": "stream",
     "text": [
      "\n",
      "Total benign test accuarcy: 51.99326221224032\n",
      "Total adversarial test Accuarcy: 59.46097697922515\n",
      "Model Saved!\n",
      "Epoch 00030: adjusting learning rate of group <generator object Module.parameters at 0x00000224F86A7D80> to 1.0000e-04.\n"
     ]
    },
    {
     "name": "stderr",
     "output_type": "stream",
     "text": [
      "                                                           \r"
     ]
    },
    {
     "name": "stdout",
     "output_type": "stream",
     "text": [
      "\n",
      "Total adversarial train accuarcy: 49.10708032775405\n",
      "Total adversarial train loss: 27.074314173310995\n",
      "\n",
      "[ Test epoch: 31 ]\n"
     ]
    },
    {
     "name": "stderr",
     "output_type": "stream",
     "text": [
      "                                                       \r"
     ]
    },
    {
     "name": "stdout",
     "output_type": "stream",
     "text": [
      "\n",
      "Total benign test accuarcy: 49.85962942167322\n",
      "Total adversarial test Accuarcy: 60.41549691184728\n",
      "Model Saved!\n",
      "Epoch 00031: adjusting learning rate of group <generator object Module.parameters at 0x00000224F86A7680> to 1.0000e-04.\n"
     ]
    },
    {
     "name": "stderr",
     "output_type": "stream",
     "text": [
      "                                                           \r"
     ]
    },
    {
     "name": "stdout",
     "output_type": "stream",
     "text": [
      "\n",
      "Total adversarial train accuarcy: 48.960011205266476\n",
      "Total adversarial train loss: 27.08300494775176\n",
      "\n",
      "[ Test epoch: 32 ]\n"
     ]
    },
    {
     "name": "stderr",
     "output_type": "stream",
     "text": [
      "                                                       \r"
     ]
    },
    {
     "name": "stdout",
     "output_type": "stream",
     "text": [
      "\n",
      "Total benign test accuarcy: 50.870297585626055\n",
      "Total adversarial test Accuarcy: 60.92083099382369\n",
      "Model Saved!\n",
      "Epoch 00032: adjusting learning rate of group <generator object Module.parameters at 0x00000224F86A7D80> to 1.0000e-04.\n"
     ]
    },
    {
     "name": "stderr",
     "output_type": "stream",
     "text": [
      "                                                           \r"
     ]
    },
    {
     "name": "stdout",
     "output_type": "stream",
     "text": [
      "\n",
      "Total adversarial train accuarcy: 49.17711324322431\n",
      "Total adversarial train loss: 26.207516964524984\n",
      "\n",
      "[ Test epoch: 33 ]\n"
     ]
    },
    {
     "name": "stderr",
     "output_type": "stream",
     "text": [
      "                                                       \r"
     ]
    },
    {
     "name": "stdout",
     "output_type": "stream",
     "text": [
      "\n",
      "Total benign test accuarcy: 51.31948343627176\n",
      "Total adversarial test Accuarcy: 59.57327344188658\n",
      "Model Saved!\n",
      "Epoch 00033: adjusting learning rate of group <generator object Module.parameters at 0x00000224F86A7680> to 1.0000e-04.\n"
     ]
    },
    {
     "name": "stderr",
     "output_type": "stream",
     "text": [
      "                                                           \r"
     ]
    },
    {
     "name": "stdout",
     "output_type": "stream",
     "text": [
      "\n",
      "Total adversarial train accuarcy: 49.681350234610264\n",
      "Total adversarial train loss: 26.127028107643127\n",
      "\n",
      "[ Test epoch: 34 ]\n"
     ]
    },
    {
     "name": "stderr",
     "output_type": "stream",
     "text": [
      "                                                       \r"
     ]
    },
    {
     "name": "stdout",
     "output_type": "stream",
     "text": [
      "\n",
      "Total benign test accuarcy: 48.34362717574396\n",
      "Total adversarial test Accuarcy: 60.190903986524425\n",
      "Model Saved!\n",
      "Epoch 00034: adjusting learning rate of group <generator object Module.parameters at 0x00000224F86A7A00> to 1.0000e-04.\n"
     ]
    },
    {
     "name": "stderr",
     "output_type": "stream",
     "text": [
      "                                                           \r"
     ]
    },
    {
     "name": "stdout",
     "output_type": "stream",
     "text": [
      "\n",
      "Total adversarial train accuarcy: 49.6393304853281\n",
      "Total adversarial train loss: 26.210440434515476\n",
      "\n",
      "[ Test epoch: 35 ]\n"
     ]
    },
    {
     "name": "stderr",
     "output_type": "stream",
     "text": [
      "                                                       \r"
     ]
    },
    {
     "name": "stdout",
     "output_type": "stream",
     "text": [
      "\n",
      "Total benign test accuarcy: 50.08422234699607\n",
      "Total adversarial test Accuarcy: 60.92083099382369\n",
      "Model Saved!\n",
      "Epoch 00035: adjusting learning rate of group <generator object Module.parameters at 0x00000224F86A7680> to 1.0000e-04.\n"
     ]
    },
    {
     "name": "stderr",
     "output_type": "stream",
     "text": [
      "                                                           \r"
     ]
    },
    {
     "name": "stdout",
     "output_type": "stream",
     "text": [
      "\n",
      "Total adversarial train accuarcy: 49.758386441627565\n",
      "Total adversarial train loss: 25.996251486241817\n",
      "\n",
      "[ Test epoch: 36 ]\n"
     ]
    },
    {
     "name": "stderr",
     "output_type": "stream",
     "text": [
      "                                                       \r"
     ]
    },
    {
     "name": "stdout",
     "output_type": "stream",
     "text": [
      "\n",
      "Total benign test accuarcy: 50.25266704098821\n",
      "Total adversarial test Accuarcy: 58.56260527793375\n",
      "Model Saved!\n",
      "Epoch 00036: adjusting learning rate of group <generator object Module.parameters at 0x00000224F86A7680> to 1.0000e-04.\n"
     ]
    },
    {
     "name": "stderr",
     "output_type": "stream",
     "text": [
      "                                                           \r"
     ]
    },
    {
     "name": "stdout",
     "output_type": "stream",
     "text": [
      "\n",
      "Total adversarial train accuarcy: 49.56929756985783\n",
      "Total adversarial train loss: 25.421159490942955\n",
      "\n",
      "[ Test epoch: 37 ]\n"
     ]
    },
    {
     "name": "stderr",
     "output_type": "stream",
     "text": [
      "                                                       \r"
     ]
    },
    {
     "name": "stdout",
     "output_type": "stream",
     "text": [
      "\n",
      "Total benign test accuarcy: 52.55474452554745\n",
      "Total adversarial test Accuarcy: 60.92083099382369\n",
      "Model Saved!\n",
      "Epoch 00037: adjusting learning rate of group <generator object Module.parameters at 0x00000224F86A7A00> to 1.0000e-04.\n"
     ]
    },
    {
     "name": "stderr",
     "output_type": "stream",
     "text": [
      "                                                           \r"
     ]
    },
    {
     "name": "stdout",
     "output_type": "stream",
     "text": [
      "\n",
      "Total adversarial train accuarcy: 50.03151481196162\n",
      "Total adversarial train loss: 25.112226735800505\n",
      "\n",
      "[ Test epoch: 38 ]\n"
     ]
    },
    {
     "name": "stderr",
     "output_type": "stream",
     "text": [
      "                                                        \r"
     ]
    },
    {
     "name": "stdout",
     "output_type": "stream",
     "text": [
      "\n",
      "Total benign test accuarcy: 52.04941044357103\n",
      "Total adversarial test Accuarcy: 61.93149915777653\n",
      "Model Saved!\n",
      "Epoch 00038: adjusting learning rate of group <generator object Module.parameters at 0x00000224F86A7A00> to 1.0000e-04.\n"
     ]
    },
    {
     "name": "stderr",
     "output_type": "stream",
     "text": [
      "                                                           \r"
     ]
    },
    {
     "name": "stdout",
     "output_type": "stream",
     "text": [
      "\n",
      "Total adversarial train accuarcy: 49.352195531899994\n",
      "Total adversarial train loss: 25.031895380467176\n",
      "\n",
      "[ Test epoch: 39 ]\n"
     ]
    },
    {
     "name": "stderr",
     "output_type": "stream",
     "text": [
      "                                                       \r"
     ]
    },
    {
     "name": "stdout",
     "output_type": "stream",
     "text": [
      "\n",
      "Total benign test accuarcy: 50.70185289163391\n",
      "Total adversarial test Accuarcy: 60.30320044918585\n",
      "Model Saved!\n",
      "Epoch 00039: adjusting learning rate of group <generator object Module.parameters at 0x00000224F86A7D80> to 1.0000e-04.\n"
     ]
    },
    {
     "name": "stderr",
     "output_type": "stream",
     "text": [
      "                                                           \r"
     ]
    },
    {
     "name": "stdout",
     "output_type": "stream",
     "text": [
      "\n",
      "Total adversarial train accuarcy: 50.38167938931298\n",
      "Total adversarial train loss: 24.33658580854535\n",
      "\n",
      "[ Test epoch: 40 ]\n"
     ]
    },
    {
     "name": "stderr",
     "output_type": "stream",
     "text": [
      "                                                       \r"
     ]
    },
    {
     "name": "stdout",
     "output_type": "stream",
     "text": [
      "\n",
      "Total benign test accuarcy: 49.410443571027514\n",
      "Total adversarial test Accuarcy: 61.03312745648512\n",
      "Model Saved!\n",
      "Epoch 00040: adjusting learning rate of group <generator object Module.parameters at 0x00000224F86A7A00> to 1.0000e-04.\n"
     ]
    },
    {
     "name": "stderr",
     "output_type": "stream",
     "text": [
      "                                                           \r"
     ]
    },
    {
     "name": "stdout",
     "output_type": "stream",
     "text": [
      "\n",
      "Total adversarial train accuarcy: 49.87043910638\n",
      "Total adversarial train loss: 24.394808534532785\n",
      "\n",
      "[ Test epoch: 41 ]\n"
     ]
    },
    {
     "name": "stderr",
     "output_type": "stream",
     "text": [
      "                                                       \r"
     ]
    },
    {
     "name": "stdout",
     "output_type": "stream",
     "text": [
      "\n",
      "Total benign test accuarcy: 52.21785513756317\n",
      "Total adversarial test Accuarcy: 59.74171813587872\n",
      "Model Saved!\n",
      "Epoch 00041: adjusting learning rate of group <generator object Module.parameters at 0x00000224F86A7A00> to 1.0000e-04.\n"
     ]
    },
    {
     "name": "stderr",
     "output_type": "stream",
     "text": [
      "                                                           \r"
     ]
    },
    {
     "name": "stdout",
     "output_type": "stream",
     "text": [
      "\n",
      "Total adversarial train accuarcy: 50.38167938931298\n",
      "Total adversarial train loss: 24.26472063548863\n",
      "\n",
      "[ Test epoch: 42 ]\n"
     ]
    },
    {
     "name": "stderr",
     "output_type": "stream",
     "text": [
      "                                                        \r"
     ]
    },
    {
     "name": "stdout",
     "output_type": "stream",
     "text": [
      "\n",
      "Total benign test accuarcy: 51.71252105558675\n",
      "Total adversarial test Accuarcy: 62.043795620437955\n",
      "Model Saved!\n",
      "Epoch 00042: adjusting learning rate of group <generator object Module.parameters at 0x00000224F86A7680> to 1.0000e-04.\n"
     ]
    },
    {
     "name": "stderr",
     "output_type": "stream",
     "text": [
      "                                                           \r"
     ]
    },
    {
     "name": "stdout",
     "output_type": "stream",
     "text": [
      "\n",
      "Total adversarial train accuarcy: 50.43770572168919\n",
      "Total adversarial train loss: 24.268156118690968\n",
      "\n",
      "[ Test epoch: 43 ]\n"
     ]
    },
    {
     "name": "stderr",
     "output_type": "stream",
     "text": [
      "                                                       \r"
     ]
    },
    {
     "name": "stdout",
     "output_type": "stream",
     "text": [
      "\n",
      "Total benign test accuarcy: 53.06007860752386\n",
      "Total adversarial test Accuarcy: 61.145423919146545\n",
      "Model Saved!\n",
      "Epoch 00043: adjusting learning rate of group <generator object Module.parameters at 0x00000224F86A7680> to 1.0000e-04.\n"
     ]
    },
    {
     "name": "stderr",
     "output_type": "stream",
     "text": [
      "                                                           \r"
     ]
    },
    {
     "name": "stdout",
     "output_type": "stream",
     "text": [
      "\n",
      "Total adversarial train accuarcy: 50.206597100637296\n",
      "Total adversarial train loss: 23.835739325731993\n",
      "\n",
      "[ Test epoch: 44 ]\n"
     ]
    },
    {
     "name": "stderr",
     "output_type": "stream",
     "text": [
      "                                                        \r"
     ]
    },
    {
     "name": "stdout",
     "output_type": "stream",
     "text": [
      "\n",
      "Total benign test accuarcy: 49.24199887703537\n",
      "Total adversarial test Accuarcy: 59.629421673217294\n",
      "Model Saved!\n",
      "Epoch 00044: adjusting learning rate of group <generator object Module.parameters at 0x00000224F86A7BC0> to 1.0000e-04.\n"
     ]
    },
    {
     "name": "stderr",
     "output_type": "stream",
     "text": [
      "                                                           \r"
     ]
    },
    {
     "name": "stdout",
     "output_type": "stream",
     "text": [
      "\n",
      "Total adversarial train accuarcy: 51.110021710203796\n",
      "Total adversarial train loss: 23.64720755815506\n",
      "\n",
      "[ Test epoch: 45 ]\n"
     ]
    },
    {
     "name": "stderr",
     "output_type": "stream",
     "text": [
      "                                                       \r"
     ]
    },
    {
     "name": "stdout",
     "output_type": "stream",
     "text": [
      "\n",
      "Total benign test accuarcy: 51.60022459292532\n",
      "Total adversarial test Accuarcy: 59.40482874789444\n",
      "Model Saved!\n",
      "Epoch 00045: adjusting learning rate of group <generator object Module.parameters at 0x00000224F86A7BC0> to 1.0000e-04.\n"
     ]
    },
    {
     "name": "stderr",
     "output_type": "stream",
     "text": [
      "                                                           \r"
     ]
    },
    {
     "name": "stdout",
     "output_type": "stream",
     "text": [
      "\n",
      "Total adversarial train accuarcy: 50.262623433013516\n",
      "Total adversarial train loss: 23.278761718422174\n",
      "\n",
      "[ Test epoch: 46 ]\n"
     ]
    },
    {
     "name": "stderr",
     "output_type": "stream",
     "text": [
      "                                                       \r"
     ]
    },
    {
     "name": "stdout",
     "output_type": "stream",
     "text": [
      "\n",
      "Total benign test accuarcy: 51.60022459292532\n",
      "Total adversarial test Accuarcy: 62.043795620437955\n",
      "Model Saved!\n",
      "Epoch 00046: adjusting learning rate of group <generator object Module.parameters at 0x00000224F86A7680> to 1.0000e-04.\n"
     ]
    },
    {
     "name": "stderr",
     "output_type": "stream",
     "text": [
      "                                                           \r"
     ]
    },
    {
     "name": "stdout",
     "output_type": "stream",
     "text": [
      "\n",
      "Total adversarial train accuarcy: 50.633797885005954\n",
      "Total adversarial train loss: 22.870420150458813\n",
      "\n",
      "[ Test epoch: 47 ]\n"
     ]
    },
    {
     "name": "stderr",
     "output_type": "stream",
     "text": [
      "                                                       \r"
     ]
    },
    {
     "name": "stdout",
     "output_type": "stream",
     "text": [
      "\n",
      "Total benign test accuarcy: 52.89163391353173\n",
      "Total adversarial test Accuarcy: 60.86468276249298\n",
      "Model Saved!\n",
      "Epoch 00047: adjusting learning rate of group <generator object Module.parameters at 0x00000224F86A7680> to 1.0000e-04.\n"
     ]
    },
    {
     "name": "stderr",
     "output_type": "stream",
     "text": [
      "0.04115182161331177:  25% 113/447 [01:16<03:39,  1.52it/s] "
     ]
    }
   ],
   "source": [
    "if __name__ == '__main__':\n",
    "    main()"
   ]
  }
 ],
 "metadata": {
  "kernelspec": {
   "display_name": "thesisaimodel",
   "language": "python",
   "name": "python3"
  },
  "language_info": {
   "codemirror_mode": {
    "name": "ipython",
    "version": 3
   },
   "file_extension": ".py",
   "mimetype": "text/x-python",
   "name": "python",
   "nbconvert_exporter": "python",
   "pygments_lexer": "ipython3",
   "version": "3.12.3"
  }
 },
 "nbformat": 4,
 "nbformat_minor": 2
}
